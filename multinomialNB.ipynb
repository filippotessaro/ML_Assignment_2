{
 "cells": [
  {
   "cell_type": "code",
   "execution_count": 1,
   "metadata": {},
   "outputs": [
    {
     "data": {
      "text/html": [
       "<div>\n",
       "<style scoped>\n",
       "    .dataframe tbody tr th:only-of-type {\n",
       "        vertical-align: middle;\n",
       "    }\n",
       "\n",
       "    .dataframe tbody tr th {\n",
       "        vertical-align: top;\n",
       "    }\n",
       "\n",
       "    .dataframe thead th {\n",
       "        text-align: right;\n",
       "    }\n",
       "</style>\n",
       "<table border=\"1\" class=\"dataframe\">\n",
       "  <thead>\n",
       "    <tr style=\"text-align: right;\">\n",
       "      <th></th>\n",
       "      <th>text</th>\n",
       "      <th>retweet_count</th>\n",
       "      <th>favorite_count</th>\n",
       "    </tr>\n",
       "  </thead>\n",
       "  <tbody>\n",
       "    <tr>\n",
       "      <th>0</th>\n",
       "      <td>we dont know why trump and putin praise each o...</td>\n",
       "      <td>7475</td>\n",
       "      <td>11964</td>\n",
       "    </tr>\n",
       "    <tr>\n",
       "      <th>1</th>\n",
       "      <td>is really starting to campaign hard for marcor...</td>\n",
       "      <td>1687</td>\n",
       "      <td>4672</td>\n",
       "    </tr>\n",
       "    <tr>\n",
       "      <th>2</th>\n",
       "      <td>find out where to on caucus night in iowa on 2116</td>\n",
       "      <td>1556</td>\n",
       "      <td>3504</td>\n",
       "    </tr>\n",
       "    <tr>\n",
       "      <th>3</th>\n",
       "      <td>100 true gt is right did call tpp   the gold s...</td>\n",
       "      <td>7419</td>\n",
       "      <td>12728</td>\n",
       "    </tr>\n",
       "    <tr>\n",
       "      <th>4</th>\n",
       "      <td>i took trump university class and saved my home</td>\n",
       "      <td>2879</td>\n",
       "      <td>7931</td>\n",
       "    </tr>\n",
       "  </tbody>\n",
       "</table>\n",
       "</div>"
      ],
      "text/plain": [
       "                                                text  retweet_count  \\\n",
       "0  we dont know why trump and putin praise each o...           7475   \n",
       "1  is really starting to campaign hard for marcor...           1687   \n",
       "2  find out where to on caucus night in iowa on 2116           1556   \n",
       "3  100 true gt is right did call tpp   the gold s...           7419   \n",
       "4    i took trump university class and saved my home           2879   \n",
       "\n",
       "  favorite_count  \n",
       "0          11964  \n",
       "1           4672  \n",
       "2           3504  \n",
       "3          12728  \n",
       "4           7931  "
      ]
     },
     "execution_count": 1,
     "metadata": {},
     "output_type": "execute_result"
    }
   ],
   "source": [
    "import numpy as np\n",
    "import pandas as pd\n",
    "from sklearn.svm import SVC\n",
    "import copy\n",
    "\n",
    "\n",
    "x_col = ['text', 'datetime', 'retweet_count', 'favorite_count', 'place_full_name']\n",
    "y_col = ['who']\n",
    "\n",
    "# comma delimited is the default\n",
    "#df = pd.read_csv(input_file, header = 0)\n",
    "X_train = pd.read_csv('tweets/tweets-train-data.csv', names = x_col)\n",
    "y_train = pd.read_csv('tweets/tweets-train-targets.csv', names = y_col)\n",
    "X_train = X_train.drop('datetime', 1)\n",
    "X_train = X_train.drop('place_full_name', 1)\n",
    "\n",
    "\n",
    "X_test = pd.read_csv('tweets/tweets-test-data.csv', names = x_col)\n",
    "y_test = pd.read_csv('tweets/tweets-test-targets.csv', names = y_col)\n",
    "X_test = X_test.drop('datetime', 1)\n",
    "X_test = X_test.drop('place_full_name', 1)\n",
    "\n",
    "X_test.head()\n",
    "\n",
    "\n",
    "# Let's check the length of the two sets\n",
    "#len(X_train), len(X_test)"
   ]
  },
  {
   "cell_type": "code",
   "execution_count": 2,
   "metadata": {},
   "outputs": [
    {
     "data": {
      "text/html": [
       "<div>\n",
       "<style scoped>\n",
       "    .dataframe tbody tr th:only-of-type {\n",
       "        vertical-align: middle;\n",
       "    }\n",
       "\n",
       "    .dataframe tbody tr th {\n",
       "        vertical-align: top;\n",
       "    }\n",
       "\n",
       "    .dataframe thead th {\n",
       "        text-align: right;\n",
       "    }\n",
       "</style>\n",
       "<table border=\"1\" class=\"dataframe\">\n",
       "  <thead>\n",
       "    <tr style=\"text-align: right;\">\n",
       "      <th></th>\n",
       "      <th>who</th>\n",
       "    </tr>\n",
       "  </thead>\n",
       "  <tbody>\n",
       "    <tr>\n",
       "      <th>0</th>\n",
       "      <td>0</td>\n",
       "    </tr>\n",
       "    <tr>\n",
       "      <th>1</th>\n",
       "      <td>1</td>\n",
       "    </tr>\n",
       "    <tr>\n",
       "      <th>2</th>\n",
       "      <td>1</td>\n",
       "    </tr>\n",
       "    <tr>\n",
       "      <th>3</th>\n",
       "      <td>1</td>\n",
       "    </tr>\n",
       "    <tr>\n",
       "      <th>4</th>\n",
       "      <td>1</td>\n",
       "    </tr>\n",
       "  </tbody>\n",
       "</table>\n",
       "</div>"
      ],
      "text/plain": [
       "   who\n",
       "0    0\n",
       "1    1\n",
       "2    1\n",
       "3    1\n",
       "4    1"
      ]
     },
     "execution_count": 2,
     "metadata": {},
     "output_type": "execute_result"
    }
   ],
   "source": [
    "#Change HC -> 0 and DT ->1 into the y dataframes.\n",
    "dict = {'HC': 0, 'DT': 1}\n",
    "\n",
    "y_train = y_train.replace({\"who\": dict})\n",
    "y_train.head()\n",
    "\n",
    "y_test = y_test.replace({\"who\": dict})\n",
    "y_test.head()\n"
   ]
  },
  {
   "cell_type": "code",
   "execution_count": null,
   "metadata": {},
   "outputs": [],
   "source": [
    "from sklearn.pipeline import Pipeline\n",
    "from sklearn.feature_extraction.text import CountVectorizer\n",
    "\n",
    "count_vect = CountVectorizer()\n",
    "X_train_counts = count_vect.fit_transform(X_train.text)\n",
    "X_train_counts.shape\n",
    "count_vect.vocabulary_.get(u'algorithm')"
   ]
  },
  {
   "cell_type": "code",
   "execution_count": null,
   "metadata": {},
   "outputs": [],
   "source": [
    "from sklearn.feature_extraction.text import TfidfTransformer\n",
    "tf_transformer = TfidfTransformer(use_idf=False).fit(X_train_counts)\n",
    "X_train_tf = tf_transformer.transform(X_train_counts)\n",
    "X_train_tf.shape"
   ]
  },
  {
   "cell_type": "code",
   "execution_count": null,
   "metadata": {},
   "outputs": [],
   "source": [
    "tfidf_transformer = TfidfTransformer()\n",
    "X_train_tfidf = tfidf_transformer.fit_transform(X_train_counts)\n",
    "X_train_tfidf.shape"
   ]
  },
  {
   "cell_type": "code",
   "execution_count": null,
   "metadata": {},
   "outputs": [],
   "source": [
    "from sklearn.naive_bayes import MultinomialNB\n",
    "clf = MultinomialNB().fit(X_train_tfidf, y_train.who)"
   ]
  },
  {
   "cell_type": "code",
   "execution_count": null,
   "metadata": {},
   "outputs": [],
   "source": [
    "from sklearn.pipeline import Pipeline\n",
    "text_clf = Pipeline([\n",
    "    ('vect', CountVectorizer()),\n",
    "    ('tfidf', TfidfTransformer()),\n",
    "    ('clf', MultinomialNB()),\n",
    "])"
   ]
  },
  {
   "cell_type": "code",
   "execution_count": null,
   "metadata": {},
   "outputs": [],
   "source": [
    "#fit text_clf\n",
    "text_clf.fit(X_train.text, y_train.who)"
   ]
  },
  {
   "cell_type": "code",
   "execution_count": null,
   "metadata": {},
   "outputs": [],
   "source": [
    "#Evaluation of the performance\n",
    "predicted = text_clf.predict(X_test.text)\n",
    "np.mean(predicted == y_test.who)"
   ]
  },
  {
   "cell_type": "code",
   "execution_count": 5,
   "metadata": {},
   "outputs": [
    {
     "name": "stderr",
     "output_type": "stream",
     "text": [
      "/home/filippo/.local/lib/python3.6/site-packages/sklearn/linear_model/stochastic_gradient.py:183: FutureWarning: max_iter and tol parameters have been added in SGDClassifier in 0.19. If max_iter is set but tol is left unset, the default value for tol in 0.19 and 0.20 will be None (which is equivalent to -infinity, so it has no effect) but will change in 0.21 to 1e-3. Specify tol to silence this warning.\n",
      "  FutureWarning)\n"
     ]
    },
    {
     "data": {
      "text/plain": [
       "0.8857852265673495"
      ]
     },
     "execution_count": 5,
     "metadata": {},
     "output_type": "execute_result"
    }
   ],
   "source": [
    "#Lets try with another model. \n",
    "#Let’s see if we can do better with a linear support \n",
    "#vector machine (SVM), which is widely regarded as one\n",
    "#of the best text classification algorithms\n",
    "from sklearn.linear_model import SGDClassifier\n",
    "from sklearn.pipeline import Pipeline\n",
    "from sklearn.feature_extraction.text import TfidfTransformer\n",
    "from sklearn.feature_extraction.text import CountVectorizer\n",
    "import numpy as np\n",
    "\n",
    "\n",
    "#Create another pipeline\n",
    "new_text_clf = Pipeline([\n",
    "    ('vect', CountVectorizer()),\n",
    "    ('tfidf', TfidfTransformer()),\n",
    "    ('clf', SGDClassifier(loss='hinge', penalty='l2',\n",
    "                              alpha=1e-3, random_state=42,\n",
    "                              max_iter=5, tol=None)),\n",
    "])\n",
    "\n",
    "new_text_clf.fit(X_train.text, y_train.who)\n",
    "new_predicted = new_text_clf.predict(X_test.text)\n",
    "np.mean(new_predicted == y_test.who)"
   ]
  },
  {
   "cell_type": "code",
   "execution_count": 21,
   "metadata": {},
   "outputs": [
    {
     "data": {
      "image/png": "[encoded data removed]",
      "text/plain": [
       "<Figure size 720x720 with 2 Axes>"
      ]
     },
     "metadata": {
      "needs_background": "light"
     },
     "output_type": "display_data"
    },
    {
     "name": "stdout",
     "output_type": "stream",
     "text": [
      "              precision    recall  f1-score   support\n",
      "\n",
      "           0       0.86      0.92      0.89       799\n",
      "           1       0.91      0.85      0.88       812\n",
      "\n",
      "   micro avg       0.89      0.89      0.89      1611\n",
      "   macro avg       0.89      0.89      0.89      1611\n",
      "weighted avg       0.89      0.89      0.89      1611\n",
      "\n"
     ]
    }
   ],
   "source": [
    "from sklearn.metrics import confusion_matrix\n",
    "import matplotlib.pyplot as plt\n",
    "import seaborn as sns\n",
    "\n",
    "#Convert 0,1 int HC & DT\n",
    "\n",
    "conf_mat = confusion_matrix(y_test, new_predicted)\n",
    "fig, ax = plt.subplots(figsize=(10,10))\n",
    "sns.heatmap(conf_mat, annot=True, fmt='d',\n",
    "            xticklabels=[0,1], yticklabels=[0,1])\n",
    "plt.ylabel('Actual')\n",
    "plt.xlabel('Predicted')\n",
    "plt.show()\n",
    "\n",
    "\n",
    "from sklearn import metrics\n",
    "report = metrics.classification_report(y_test.values, new_predicted)\n",
    "print(report)"
   ]
  },
  {
   "cell_type": "code",
   "execution_count": 25,
   "metadata": {
    "scrolled": true
   },
   "outputs": [
    {
     "name": "stderr",
     "output_type": "stream",
     "text": [
      "/home/filippo/.local/lib/python3.6/site-packages/sklearn/linear_model/stochastic_gradient.py:183: FutureWarning: max_iter and tol parameters have been added in SGDClassifier in 0.19. If max_iter is set but tol is left unset, the default value for tol in 0.19 and 0.20 will be None (which is equivalent to -infinity, so it has no effect) but will change in 0.21 to 1e-3. Specify tol to silence this warning.\n",
      "  FutureWarning)\n",
      "/home/filippo/.local/lib/python3.6/site-packages/sklearn/utils/validation.py:761: DataConversionWarning: A column-vector y was passed when a 1d array was expected. Please change the shape of y to (n_samples, ), for example using ravel().\n",
      "  y = column_or_1d(y, warn=True)\n"
     ]
    },
    {
     "data": {
      "image/png": "[encoded data removed]",
      "text/plain": [
       "<Figure size 432x288 with 1 Axes>"
      ]
     },
     "metadata": {
      "needs_background": "light"
     },
     "output_type": "display_data"
    }
   ],
   "source": [
    "try:\n",
    "    from sklearn.model_selection import learning_curve\n",
    "except ImportError:\n",
    "    from sklearn.learning_curve import learning_curve\n",
    "    \n",
    "    \n",
    "plt.figure()\n",
    "plt.title(\"Learning curve\")\n",
    "plt.xlabel(\"Training examples\")\n",
    "plt.ylabel(\"Score\")\n",
    "plt.grid()\n",
    "\n",
    "#clf = SVC(C=10, kernel='rbf', gamma=best_gamma)\n",
    "\n",
    "# Compute the scores of the learning curve\n",
    "# by default the (relative) dataset sizes are: 10%, 32.5%, 55%, 77.5%, 100% \n",
    "train_sizes, train_scores, test_scores = learning_curve(new_text_clf, X_train.text, y_train, scoring='accuracy', cv=3)\n",
    "\n",
    "# Get the mean and std of train and test scores along the varying dataset sizes\n",
    "train_scores_mean = np.mean(train_scores, axis=1)\n",
    "train_scores_std = np.std(train_scores, axis=1)\n",
    "test_scores_mean = np.mean(test_scores, axis=1)\n",
    "test_scores_std = np.std(test_scores, axis=1)\n",
    "\n",
    "# Plot the mean and std for the training scores\n",
    "plt.plot(train_sizes, train_scores_mean, 'o-', color=\"r\", label=\"Training score\")\n",
    "\n",
    "plt.fill_between(train_sizes, train_scores_mean - train_scores_std,\n",
    "                 train_scores_mean + train_scores_std, alpha=0.1, color=\"r\")\n",
    "\n",
    "# Plot the mean and std for the cross-validation scores\n",
    "plt.plot(train_sizes, test_scores_mean, 'o-', color=\"g\", label=\"Cross-validation score\")\n",
    "\n",
    "plt.fill_between(train_sizes, test_scores_mean - test_scores_std,\n",
    "                 test_scores_mean + test_scores_std, alpha=0.1, color=\"g\")\n",
    "plt.ylim(0.05,1.3)             # set bottom and top limits for y axis\n",
    "plt.legend()\n",
    "plt.show()"
   ]
  },
  {
   "cell_type": "code",
   "execution_count": 45,
   "metadata": {},
   "outputs": [
    {
     "data": {
      "text/plain": [
       "0.8932340161390441"
      ]
     },
     "execution_count": 45,
     "metadata": {},
     "output_type": "execute_result"
    }
   ],
   "source": [
    "# Again, we have to add some code to have this run on the lab PCs\n",
    "from sklearn.svm import SVC\n",
    "\n",
    "try:\n",
    "    from sklearn.model_selection import KFold, cross_val_score\n",
    "    legacy = False \n",
    "except ImportError:\n",
    "    from sklearn.cross_validation import KFold, cross_val_score\n",
    "    legacy = True\n",
    "    \n",
    "# 3-fold cross-validation\n",
    "# random_state ensures same split for each value of gamma\n",
    "# KFold has a different syntax for legacy versions of scikit-learn\n",
    "if legacy:\n",
    "    kf = KFold(len(y_train),n_folds=3, shuffle=True, random_state=42)\n",
    "else:\n",
    "    kf = KFold(n_splits=3, shuffle=True, random_state=42)\n",
    "\n",
    "gamma_values = [0.1, 0.05, 0.02, 0.01]\n",
    "accuracy_scores = []\n",
    "\n",
    "# Do model selection over all the possible values of gamma \n",
    "for gamma in gamma_values:\n",
    "    \n",
    "    # Train a classifier with current gamma\n",
    "    #clf = SVC(C=10, kernel='rbf', gamma=gamma)\n",
    "    text_clf = Pipeline([\n",
    "        ('vect', CountVectorizer()),\n",
    "        ('tfidf', TfidfTransformer()),\n",
    "        ('clf', SVC(C=10, kernel='rbf', gamma=gamma)),])\n",
    "\n",
    "    # Compute cross-validated accuracy scores\n",
    "    # So legacy....\n",
    "    if legacy: \n",
    "        scores = cross_val_score(text_clf, X_train.text, y_train.who, cv=kf, scoring='accuracy')\n",
    "    else:\n",
    "         scores = cross_val_score(text_clf, X_train.text, y_train.who, cv=kf.split(X_train), scoring='accuracy')\n",
    "    \n",
    "    # Compute the mean accuracy and keep track of it\n",
    "    accuracy_score = scores.mean()\n",
    "    accuracy_scores.append(accuracy_score)\n",
    "\n",
    "# Get the gamma with highest mean accuracy\n",
    "best_index = np.array(accuracy_scores).argmax()\n",
    "best_gamma = gamma_values[best_index]\n",
    "\n",
    "best_gamma\n",
    "\n",
    "# Train over the full training set with the best gamma\n",
    "clf = Pipeline([\n",
    "        ('vect', CountVectorizer()),\n",
    "        ('tfidf', TfidfTransformer()),\n",
    "        ('clf', SVC(C=10, kernel='rbf', gamma=best_gamma)),])\n",
    "clf.fit(X_train.text, y_train.who)\n",
    "\n",
    "# Evaluate on the test set\n",
    "y_pred = clf.predict(X_test.text)\n",
    "accuracy = metrics.accuracy_score(y_test, y_pred)\n",
    "\n",
    "accuracy"
   ]
  },
  {
   "cell_type": "code",
   "execution_count": null,
   "metadata": {},
   "outputs": [],
   "source": []
  }
 ],
 "metadata": {
  "kernelspec": {
   "display_name": "Python 3",
   "language": "python",
   "name": "python3"
  },
  "language_info": {
   "codemirror_mode": {
    "name": "ipython",
    "version": 3
   },
   "file_extension": ".py",
   "mimetype": "text/x-python",
   "name": "python",
   "nbconvert_exporter": "python",
   "pygments_lexer": "ipython3",
   "version": "3.6.7"
  }
 },
 "nbformat": 4,
 "nbformat_minor": 2
}
